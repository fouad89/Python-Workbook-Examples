{
 "cells": [
  {
   "cell_type": "markdown",
   "metadata": {},
   "source": [
    "### The Python Workbook: Solve 100 Exercises\n",
    "### EX 50-69\n",
    "#### A Udemy course to practice python with the given ex."
   ]
  },
  {
   "cell_type": "code",
   "execution_count": 1,
   "metadata": {},
   "outputs": [
    {
     "name": "stdout",
     "output_type": "stream",
     "text": [
      "Enter your first name: first\n",
      "Enter your second namelast\n",
      "your first name is first and your last name is last \n"
     ]
    }
   ],
   "source": [
    "#EX52\n",
    "'''The code is supposed to ask the user to enter their name and surname and\n",
    "then it prints out those user submitted values.  Instead, the code throws a\n",
    "TypeError.Please fix it so that the expected output is printed out.'''\n",
    "\n",
    "first_name=input('Enter your first name: ')\n",
    "second_name=input('Enter your second name')\n",
    "print ('your first name is %s and your last name is %s ' %(first_name,second_name))"
   ]
  },
  {
   "cell_type": "code",
   "execution_count": 2,
   "metadata": {},
   "outputs": [
    {
     "name": "stdout",
     "output_type": "stream",
     "text": [
      "Smith\n"
     ]
    }
   ],
   "source": [
    "#EX53 \n",
    "'''print out the last name of the second employee'''\n",
    "\n",
    "d = {\"employees\":[{\"firstName\": \"John\", \"lastName\": \"Doe\"},\n",
    "                {\"firstName\": \"Anna\", \"lastName\": \"Smith\"},\n",
    "                {\"firstName\": \"Peter\", \"lastName\": \"Jones\"}],\n",
    "\"owners\":[{\"firstName\": \"Jack\", \"lastName\": \"Petter\"},\n",
    "          {\"firstName\": \"Jessy\", \"lastName\": \"Petter\"}]}\n",
    "print(d['employees'][1]['lastName'])"
   ]
  },
  {
   "cell_type": "code",
   "execution_count": 3,
   "metadata": {
    "collapsed": true
   },
   "outputs": [],
   "source": [
    "#EX54 \n",
    "'''Modify the last name of the second employee'''\n",
    "d['employees'][1]['lastName']='Smooth'"
   ]
  },
  {
   "cell_type": "code",
   "execution_count": 5,
   "metadata": {
    "collapsed": true
   },
   "outputs": [],
   "source": [
    "#EX55  \n",
    "'''Adding to Multilevel Dictionaries'''\n",
    "\n",
    "d['employees'].append({'firstName': 'Albert','lastName': 'Bert'})"
   ]
  },
  {
   "cell_type": "code",
   "execution_count": 7,
   "metadata": {},
   "outputs": [
    {
     "name": "stdout",
     "output_type": "stream",
     "text": [
      "{'employees': [{'firstName': 'John', 'lastName': 'Doe'},\n",
      "               {'firstName': 'Anna', 'lastName': 'Smooth'},\n",
      "               {'firstName': 'Peter', 'lastName': 'Jones'},\n",
      "               {'firstName': 'Albert', 'lastName': 'Bert'}],\n",
      " 'owners': [{'firstName': 'Jack', 'lastName': 'Petter'},\n",
      "            {'firstName': 'Jessy', 'lastName': 'Petter'}]}\n"
     ]
    }
   ],
   "source": [
    "#EX56 \n",
    "'''Store the dictionary in a json file.'''\n",
    "import json\n",
    "from pprint import pprint\n",
    "with open('jsonfile.json','w') as f: #open a file with the json extentions\n",
    "    json.dump(d,f,indent=4, sort_keys=True) #dump dictionary d into file f with indentation\n",
    "\n"
   ]
  },
  {
   "cell_type": "code",
   "execution_count": null,
   "metadata": {
    "collapsed": true
   },
   "outputs": [],
   "source": [
    "#EX57 \n",
    "'''\n",
    "json to dictionary\n",
    "'''\n",
    "with open('jsonfile.json','r') as f:\n",
    "    new_dict=json.loads(f.read())\n",
    "pprint(new_dict)"
   ]
  },
  {
   "cell_type": "code",
   "execution_count": 8,
   "metadata": {
    "collapsed": true
   },
   "outputs": [],
   "source": [
    "#EX58 \n",
    "'''adding a new employ to the file'''\n",
    "with open('jsonfile.json','r+') as file:#read and write with r+\n",
    "    new_dictionary=json.loads(file.read())\n",
    "    new_dictionary['employees'].append({'firstName': 'new', 'lastName':'employee'})\n",
    "    file.seek(0) #putting the cursor into the first line, so to overwrite previous dictionary\n",
    "    json.dump(new_dictionary,file, indent=4, sort_keys=True)"
   ]
  },
  {
   "cell_type": "code",
   "execution_count": 9,
   "metadata": {},
   "outputs": [
    {
     "name": "stdout",
     "output_type": "stream",
     "text": [
      "Item 1 has index 0\n",
      "Item 2 has index 1\n",
      "Item 3 has index 2\n"
     ]
    }
   ],
   "source": [
    "#EX59 \n",
    "'''Enumerator'''\n",
    "#Method 1\n",
    "a=[1,2,3]\n",
    "for i in range(len(a)):\n",
    "    print('Item %s has index %s' %(a[i],i))\n",
    "    \n",
    "#Method 2 using enumerate\n",
    "for index,item in enumerate(a):\n",
    "    print('Item %s has index %s'%(item,index))\n"
   ]
  },
  {
   "cell_type": "code",
   "execution_count": 11,
   "metadata": {},
   "outputs": [
    {
     "name": "stdout",
     "output_type": "stream",
     "text": [
      "hello\n",
      "hello\n",
      "hello\n",
      "hello\n",
      "hello\n",
      "hello\n",
      "hello\n",
      "hello\n",
      "hello\n",
      "hello\n"
     ]
    }
   ],
   "source": [
    "#EX61 \n",
    "'''Printing hello every two seconds'''\n",
    "import time\n",
    "\n",
    "while True:\n",
    "    print ('hello')\n",
    "    time.sleep(2)"
   ]
  },
  {
   "cell_type": "code",
   "execution_count": 12,
   "metadata": {},
   "outputs": [
    {
     "name": "stdout",
     "output_type": "stream",
     "text": [
      "hello\n",
      "hello\n",
      "hello\n",
      "hello\n",
      "End of Loop\n"
     ]
    }
   ],
   "source": [
    "#EX 63\n",
    "'''Create a program that once executed the programs prints Hello\n",
    "instantly first, then it prints it after 1 second, then after 2, 3,\n",
    "and then the program prints out the message\n",
    "\"End of the Loop\" and stops.'''\n",
    "import time\n",
    "i=0\n",
    "while True:\n",
    "    print('hello')\n",
    "    i+=1\n",
    "    if i>3:\n",
    "        print('End of Loop')\n",
    "        break\n",
    "    time.sleep(i)"
   ]
  },
  {
   "cell_type": "code",
   "execution_count": 13,
   "metadata": {},
   "outputs": [
    {
     "name": "stdout",
     "output_type": "stream",
     "text": [
      "What is your word? Earth\n",
      "terra\n"
     ]
    }
   ],
   "source": [
    "#EX 66+67 translator {First Method}\n",
    "d= dict(weather='clima',earth='terra',rain='chuva')\n",
    "def translator(word):\n",
    "    if word in d:\n",
    "        return d[word]\n",
    "    else:\n",
    "        return 'Sorry'\n",
    "word=input('What is your word? ')\n",
    "print(translator(word.lower()))\n",
    "\n",
    "#Method 2\n",
    "def translator2(word):\n",
    "    try:\n",
    "        return d[word]\n",
    "    except KeyError:\n",
    "        return 'Doesnt exist'\n",
    "word=input(' enter word: ').lower()\n",
    "print(translator2(word))"
   ]
  },
  {
   "cell_type": "code",
   "execution_count": null,
   "metadata": {
    "collapsed": true
   },
   "outputs": [],
   "source": []
  }
 ],
 "metadata": {
  "kernelspec": {
   "display_name": "Python 3",
   "language": "python",
   "name": "python3"
  },
  "language_info": {
   "codemirror_mode": {
    "name": "ipython",
    "version": 3
   },
   "file_extension": ".py",
   "mimetype": "text/x-python",
   "name": "python",
   "nbconvert_exporter": "python",
   "pygments_lexer": "ipython3",
   "version": "3.6.1"
  }
 },
 "nbformat": 4,
 "nbformat_minor": 2
}
