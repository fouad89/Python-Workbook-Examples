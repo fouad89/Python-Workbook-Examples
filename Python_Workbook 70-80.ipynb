{
 "cells": [
  {
   "cell_type": "code",
   "execution_count": null,
   "metadata": {
    "collapsed": true
   },
   "outputs": [],
   "source": [
    "#EX73 \n",
    "'''Create a script that reads this file, multiplies its values by two and saves the output in a new text file.'''\n",
    "import pandas as pd\n",
    "data=pd.read_csv(\"http://www.pythonhow.com/data/sampledata.txt\")\n",
    "data2=data*2\n",
    "data2.to_csv(\"sampledata_x_2.txt\", index=None)"
   ]
  },
  {
   "cell_type": "code",
   "execution_count": null,
   "metadata": {
    "collapsed": true
   },
   "outputs": [],
   "source": [
    "#EX74 \n",
    "'''concatinate two files'''\n",
    "import pandas as pd\n",
    "#first step: read data as csv\n",
    "#2nd: concatinate both files\n",
    "#3rd: write to csv file\n",
    "data=pd.read_csv(\"http://www.pythonhow.com/data/sampledata.txt\")\n",
    "data1=pd.read_csv(\"sampledata_x_2.txt\")\n",
    "concat_data=pd.concat([data,data1])\n",
    "concat_data.to_csv('concat_file.txt', index=None)# to stop index from writing to file. Otherwise the index arg is not needed"
   ]
  },
  {
   "cell_type": "code",
   "execution_count": null,
   "metadata": {},
   "outputs": [],
   "source": [
    "#EX75 \n",
    "'''Plot the data'''\n",
    "#to show graph in notebook\n",
    "\n",
    "%matplotlib inline \n",
    "#Steps:\n",
    "##1. read data file\n",
    "##2. using matplotlib to add the plot\n",
    "import pandas as pd\n",
    "import matplotlib.pylab as plt\n",
    "my_data=pd.read_csv('concat_file.txt')\n",
    "my_data.plot(x='x',y='y',kind='scatter')\n"
   ]
  },
  {
   "cell_type": "code",
   "execution_count": null,
   "metadata": {
    "collapsed": true
   },
   "outputs": [],
   "source": [
    "#EX75 \n",
    "'''Plot using bokeh'''\n",
    "from bokeh.plotting import figure\n",
    "from bokeh.io import output_file, show\n",
    "import pandas\n",
    "output_file(\"bokeh_plot.html\")\n",
    "data = pandas.read_csv(\"http://www.pythonhow.com/data/sampledata.txt\")\n",
    "f = figure()\n",
    "f.circle(x=data[\"x\"], y=data[\"y\"])\n",
    "show(f)"
   ]
  },
  {
   "cell_type": "code",
   "execution_count": null,
   "metadata": {},
   "outputs": [],
   "source": [
    "#EX76 \n",
    "'''print out todays date'''\n",
    "from datetime import datetime\n",
    "# %A  would extract the day, %B  the month, %d  the date, and %Y\n",
    "print(datetime.now().strftime(\"Today is %A, %B, %d, %Y\")) "
   ]
  },
  {
   "cell_type": "code",
   "execution_count": null,
   "metadata": {},
   "outputs": [],
   "source": [
    "#EX77 \n",
    "\"\"\"Create a script that asks the user to enter their \n",
    "age and the script calculates the user's year of birth and prints it out in\n",
    "a string like in the expected output. Please make sure you generate the current year dynamically.\"\"\"\n",
    "#1. user input: age\n",
    "#2. calculate years and output the year of birthh\n",
    "from datetime import datetime\n",
    "user_input=input('How old are you? ')\n",
    "current_date=datetime.now().strftime('%Y') # or datetime.now().year, which will give an int straight away, no need to convert\n",
    "year_of_birth=int(current_date)-int(user_input) \n",
    "print ('You were born in %s' %year_of_birth)\n"
   ]
  },
  {
   "cell_type": "code",
   "execution_count": null,
   "metadata": {},
   "outputs": [],
   "source": [
    "#EX78 \n",
    "'''genereate a password of length 6'''\n",
    "import random\n",
    "characters = \"abcdefghijklmnopqrstuvwxyz01234567890ABCDEFGHIJKLMNOPQRSTUVWXYZ!@#$%^&*()?\"\n",
    "random_letters=random.sample(characters, 6)\n",
    "password=''.join(random_letters)\n",
    "print(password)"
   ]
  },
  {
   "cell_type": "code",
   "execution_count": null,
   "metadata": {},
   "outputs": [],
   "source": [
    "#EX79\n",
    "'''generate a password with specific criteria'''\n",
    "'''CreatZero <I>t least 5 characters. If the conditions are generated,\n",
    "print out \"Password is fine\", otherwise keep prompting the user for a password.'''\n",
    "#1. user input\n",
    "#2. set criteria\n",
    "#3. check if criteria is satisfied\n",
    "\n",
    "while True:\n",
    "    user_input=input('Enter your password: ')\n",
    "    #investigate any function\n",
    "    if any(i.isdigit() for i in user_input) and any(i.isupper() for i in user_input) and len(user_input)>=5:\n",
    "        print('Password accepted! ')\n",
    "        break # end of while loop \n",
    "    else:\n",
    "        print('please try again... ')\n",
    "        \n"
   ]
  },
  {
   "cell_type": "code",
   "execution_count": null,
   "metadata": {},
   "outputs": [],
   "source": [
    "# EX 80 generate password with one capital letter\n",
    "'''Create a program asks the user to enter a new password and check that the\n",
    "submitted password should contain at least one number, one uppercase letter and at least 5 characters.\n",
    "If the conditions are generated, \n",
    "print out the reason why pointing to the specific condition/s that has not been satisfied.\n",
    "'''\n",
    "#1. request input\n",
    "#2. generate feedback if missing any of the criteria\n",
    "#3. list the feedbacks.\n",
    "#4. keep running until achieved\n",
    "while True:\n",
    "    notes_list=[]\n",
    "    user_input=input('Enter Your Password: ') # user input\n",
    "    if not any(i.isdigit() for i in user_input): #check if it has at least one number\n",
    "        notes_list.append('You need at least one number! ')\n",
    "    if not any(i.isupper() for i in user_input):#check if it has at least one upper case\n",
    "        notes_list.append('Upper case missing')\n",
    "    if len(user_input)<5:# longer than 5\n",
    "        notes_list.append('at least five letters')\n",
    "    if len(notes_list)==0:# by checking the list, if the user_input generated in of the above msgs, this will be skipped\n",
    "        #program ends here if notes_list is empty\n",
    "        print('Successful password')\n",
    "        break\n",
    "    else:\n",
    "        print('Reasons: ')\n",
    "        for note in notes_list:\n",
    "            print(note)"
   ]
  },
  {
   "cell_type": "code",
   "execution_count": null,
   "metadata": {
    "collapsed": true
   },
   "outputs": [],
   "source": []
  }
 ],
 "metadata": {
  "kernelspec": {
   "display_name": "Python 3",
   "language": "python",
   "name": "python3"
  },
  "language_info": {
   "codemirror_mode": {
    "name": "ipython",
    "version": 3
   },
   "file_extension": ".py",
   "mimetype": "text/x-python",
   "name": "python",
   "nbconvert_exporter": "python",
   "pygments_lexer": "ipython3",
   "version": "3.6.1"
  }
 },
 "nbformat": 4,
 "nbformat_minor": 2
}
