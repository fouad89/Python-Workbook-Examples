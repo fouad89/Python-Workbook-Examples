{
 "cells": [
  {
   "cell_type": "code",
   "execution_count": null,
   "metadata": {},
   "outputs": [],
   "source": [
    "#EX81\n",
    "'''generate a file of genric usernames, check if username exists already or not,\n",
    "then ask for a password with a certain criteria'''\n",
    "'''with open ('usernames2.txt','w') as f:\n",
    "    for i in range(10):\n",
    "        user=('user%s\\n'%i)\n",
    "        f.write(user)'''\n",
    "with open('usernames1.txt','r') as file:\n",
    "    lines=file.readlines()\n",
    "    correct_line=[line.rstrip(' \\n') for line in lines]# to strip lines from \\n and append to new list\n",
    "while True:\n",
    "    user_name=input('Enter your username: ')\n",
    "    if not user_name in correct_line:\n",
    "        print('good')\n",
    "        break\n",
    "    else:\n",
    "        print('please try again:')\n",
    "while True:\n",
    "    password=input('Enter your password: ')\n",
    "    error_list=[]\n",
    "    if not any(i.isdigit() for i in password):\n",
    "        error_list.append('No numbers, please try again')\n",
    "    if not any(i.isupper() for i in password):\n",
    "        error_list.append('No upper case, please try again')\n",
    "    if len(password)<5:\n",
    "        error_list.append('too short')\n",
    "    if len(error_list)==0:\n",
    "        print('successful')\n",
    "        break\n",
    "    else:\n",
    "        for error in error_list:\n",
    "            print(error)"
   ]
  },
  {
   "cell_type": "code",
   "execution_count": null,
   "metadata": {},
   "outputs": [],
   "source": [
    "#EX85 data cleaning. \n",
    "'''\n",
    "retrieve a file with country names inside it. clean the data inside that file and return a list of all countries.\n",
    "'''\n",
    "with open('countries-raw.txt','r') as file:\n",
    "    content=file.readlines()\n",
    "content=[i.strip('\\n') for i in content if '\\n' in i]\n",
    "content=[i for i in content if i!='']\n",
    "content=[i for i in content if i!='Top of Page']\n",
    "content=[i for i in content if len(i)!=1]\n",
    "#print (content)\n",
    "\n",
    "with open('countries-raw2.txt','w') as f:\n",
    "    for i in content:\n",
    "        f.write(i+'\\n')\n",
    "    "
   ]
  },
  {
   "cell_type": "code",
   "execution_count": null,
   "metadata": {},
   "outputs": [],
   "source": [
    "#EX85 method 2\n",
    "with open('countries-raw.txt','r') as file:\n",
    "    content=file.readlines()\n",
    "    content=[i.strip('\\n') for i in content if '\\n' in i]\n",
    "    content=[i for i in content if i!='' and len(i)!=1 and i!='Top of Page']\n",
    "print (content)"
   ]
  },
  {
   "cell_type": "code",
   "execution_count": null,
   "metadata": {},
   "outputs": [],
   "source": [
    "#EX86 \n",
    "'''Data Checker: check if user input is a country in file or not '''\n",
    "#1 take user input\n",
    "#2 open file to check with. \n",
    "#3 check result\n",
    "\n",
    "with open('countries-clean.txt','r') as file:\n",
    "    country_list=file.readlines()\n",
    "    country_list=[i.strip('\\n') for i in country_list]\n",
    "while True:\n",
    "    user_input=input('enter a country to check: ')\n",
    "    if user_input.title() not in country_list: #to capitalise first letter as all countries in file start with capital letter\n",
    "        print('not a country')\n",
    "    else:\n",
    "        print(user_input.title()+' is a country')\n",
    "        break\n"
   ]
  },
  {
   "cell_type": "code",
   "execution_count": null,
   "metadata": {
    "collapsed": true
   },
   "outputs": [],
   "source": [
    "#EX87 \n",
    "'''adding missing data and sorting '''\n",
    "#1 open file\n",
    "#2 amend list to match format before adding\n",
    "#3 sorting the product\n",
    "checklist=['Portugal','Germany','Spain']\n",
    "checklist=[i+'\\n' for i in checklist]# amend list to file format\n",
    "\n",
    "with open('countries-missing.txt','r') as file:\n",
    "    content=file.readlines()\n",
    "    added_countries=sorted(content+checklist)\n",
    "with open('added_countries.txt','w') as f:\n",
    "    for i in added_countries:\n",
    "        f.write(i)\n"
   ]
  },
  {
   "cell_type": "code",
   "execution_count": null,
   "metadata": {},
   "outputs": [],
   "source": [
    "#EX88 \n",
    "'''Create a script that uses the attached countries_by_area.txt\n",
    "file as data source and prints out the top 5 most densely populated countries.'''\n",
    "\n",
    "import pandas\n",
    "data=pandas.read_csv('countries-by-area.txt')\n",
    "data['density']=data['population_2013'] /data['area_sqkm'] # finding density from csv file\n",
    "data=data.sort_values(by='density', ascending=False) # sorting countries by density\n",
    "data=data.drop('rank',axis=1)\n",
    "print(data[:5])\n",
    "data.to_csv('new_countries-by-area.txt')\n",
    "for index, row in data[:5].iterrows():\n",
    "    print(row['country'])"
   ]
  },
  {
   "cell_type": "code",
   "execution_count": null,
   "metadata": {
    "collapsed": true
   },
   "outputs": [],
   "source": []
  }
 ],
 "metadata": {
  "kernelspec": {
   "display_name": "Python 3",
   "language": "python",
   "name": "python3"
  },
  "language_info": {
   "codemirror_mode": {
    "name": "ipython",
    "version": 3
   },
   "file_extension": ".py",
   "mimetype": "text/x-python",
   "name": "python",
   "nbconvert_exporter": "python",
   "pygments_lexer": "ipython3",
   "version": "3.6.1"
  }
 },
 "nbformat": 4,
 "nbformat_minor": 2
}
