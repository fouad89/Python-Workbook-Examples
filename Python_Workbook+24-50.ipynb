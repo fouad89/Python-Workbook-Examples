{
 "cells": [
  {
   "cell_type": "markdown",
   "metadata": {},
   "source": [
    "### The Python Workbook: Solve 100 Exercises\n",
    "### EX 24-50\n",
    "#### A Udemy course to practice python with the given ex. some of the exercises are not included as they can be easliy done mentall"
   ]
  },
  {
   "cell_type": "code",
   "execution_count": null,
   "metadata": {
    "collapsed": true
   },
   "outputs": [],
   "source": [
    "# Python workbook ex. from UDEMY"
   ]
  },
  {
   "cell_type": "code",
   "execution_count": null,
   "metadata": {},
   "outputs": [],
   "source": [
    "#EX24\n",
    "'''\n",
    "print the list value corresponding to each key in the dictionary.\n",
    "Desired output:\n",
    "b has value [11, 12, 13, 14, 15, 16, 17, 18, 19, 20]\n",
    "c has value [21, 22, 23, 24, 25, 26, 27, 28, 29, 30]\n",
    "a has value [1, 2, 3, 4, 5, 6, 7, 8, 9, 10]\n",
    "'''\n",
    "\n",
    "\n",
    "d= dict(a=list(range(1,11)),b=list(range(11,21)),c=list(range(21,31)))\n",
    "for key, value in d.items(): #iteration over a dictionary\n",
    "    print(key,'has value', value)\n",
    "    \n"
   ]
  },
  {
   "cell_type": "code",
   "execution_count": null,
   "metadata": {},
   "outputs": [],
   "source": [
    "#EX25\n",
    "\"\"\"\n",
    "Make a script that prints out letters of English alphabet from a to z,\n",
    "one letter per line in the terminal.\n",
    "\"\"\"\n",
    "# Method 1\n",
    "alphabet_letters='abcdefghijklmnopqrstuvwxyz'\n",
    "for letter in alphabet_letters:\n",
    "    print(letter)\n",
    "# method 2: using string lib\n",
    "import string\n",
    "for letter in string.ascii_lowercase:\n",
    "    print(letter)"
   ]
  },
  {
   "cell_type": "code",
   "execution_count": null,
   "metadata": {},
   "outputs": [],
   "source": [
    "#EX26\n",
    "\n",
    "'''Make a script that prints out numbers from 1 to 10'''\n",
    "\n",
    "for number in range(1,11):\n",
    "    print (number)"
   ]
  },
  {
   "cell_type": "code",
   "execution_count": null,
   "metadata": {},
   "outputs": [],
   "source": [
    "#EX27\n",
    "'''Create a function that calculates acceleration given initial velocity v1,\n",
    "final velocity v2, start time t1, and end time t2. The formula for acceleration\n",
    "is:\n",
    "a=(v2-v1)/(t2-t1)\n",
    "\n",
    "To test your solution, call the function by inputting values\n",
    "0, 10, 0, 20 for v1, v2, t1, and t2 respectively, and you should get the expected output.'''\n",
    "def acceleration_calc(v1,v2,t1,t2):\n",
    "    acceleration=(v2-v1)/(t2-t1)\n",
    "    return acceleration\n",
    "print (acceleration_calc(0,10,0,20))"
   ]
  },
  {
   "cell_type": "code",
   "execution_count": null,
   "metadata": {},
   "outputs": [],
   "source": [
    "#EX29\n",
    "'''Please write a function that calculates liquid volume in a sphere using\n",
    "the following formula.\n",
    "The radius r  is always 10, so consider making it a default parameter.'''\n",
    "\n",
    "def liquid_volume(h,r=10): #radius r will default to 10 if no input\n",
    "    import math\n",
    "    \n",
    "    volume=(4*math.pi*(r**3)/3)-(math.pi*(h**2)*((3*r)-h))/3\n",
    "    return volume\n",
    "print (liquid_volume(2))"
   ]
  },
  {
   "cell_type": "code",
   "execution_count": null,
   "metadata": {
    "collapsed": true
   },
   "outputs": [],
   "source": [
    "#EX35\n",
    "'''Create a function that takes any string as input\n",
    "    and returns the number of words for that string.\n",
    "'''\n",
    "def word_count(sentence):\n",
    "    list_of_words=sentence.split(' ')\n",
    "    return len(list_of_words)\n",
    "print(word_count('Hi my name is'))"
   ]
  },
  {
   "cell_type": "code",
   "execution_count": null,
   "metadata": {
    "collapsed": true
   },
   "outputs": [],
   "source": [
    "#EX36 \n",
    "\"\"\"Please download the words1.txt file from the attachment and then\n",
    "create a Python function that takes a text file as input and returns the number\n",
    "of words contained in the text file.\"\"\"\n",
    "def text_count():\n",
    "    word_list=[]\n",
    "    with open('words1.txt','r') as f:\n",
    "        words=f.read()\n",
    "        word_list=words.split(' ')\n",
    "    return len(word_list)\n",
    "print(text_count)"
   ]
  },
  {
   "cell_type": "code",
   "execution_count": null,
   "metadata": {},
   "outputs": [],
   "source": [
    "#EX37 \n",
    "#Method 1\n",
    "\"\"\"Create a function that takes a text file as input and returns the number\n",
    "of words contained in the text file. Please take into consideration\n",
    "that some words can be separated by a comma with no space. For example\n",
    "\"Hi,it's me.\" would need to be counted as three words. For your convenience, \n",
    "you can use the text file in the attachment.\"\"\"\n",
    "def text_count2():\n",
    "    with open('words2.txt','r') as file:\n",
    "        text=file.read()\n",
    "        text.replace(',',' ')\n",
    "        word_count=text.replace(',',' ').split(' ')\n",
    "        return len(word_count)\n",
    "\n",
    "#Method 2: Using regular expressions\n",
    "import re\n",
    "def count_words_re(filepath):\n",
    "    with open(filepath,'r') as file:\n",
    "        words=file.read()\n",
    "        words_list=re.split(',| ', words) # replacing commas with space using regex\n",
    "        return len(words_list)    \n",
    "print(text_count2())\n",
    "print(count_words_re('words2.txt'))"
   ]
  },
  {
   "cell_type": "code",
   "execution_count": null,
   "metadata": {
    "collapsed": true
   },
   "outputs": [],
   "source": [
    "#EX41\n",
    "'''\n",
    "Create a script that generates a text file with all letters of English alphabet inside it, one letter per line.\n",
    "'''\n",
    "import string\n",
    "with open('words33.txt','w') as file:\n",
    "    for letter in string.ascii_lowercase: # using string library for lower ccase\n",
    "        file.write(letter + '\\n')# adding letter and start a new line. \n"
   ]
  },
  {
   "cell_type": "code",
   "execution_count": null,
   "metadata": {},
   "outputs": [],
   "source": [
    "#EX42\n",
    "'''Print out in each line the sum of homologous items of the two sequences.'''\n",
    "a=[1,2,3]\n",
    "b=(4,5,6)\n",
    "for i,j in zip(a,b):\n",
    "    print(i+j)\n"
   ]
  },
  {
   "cell_type": "code",
   "execution_count": null,
   "metadata": {
    "collapsed": true
   },
   "outputs": [],
   "source": [
    "#EX43\n",
    "\"\"\"write to a file so that two letters each line\"\"\"\n",
    "import string\n",
    "with open('two_letters.txt','w') as file:\n",
    "    for letter1, letter2 in zip(string.ascii_lowercase[0::2],string.ascii_lowercase[1::2]):\n",
    "    #The first [0::2] starts from a and skips b to c and so on\n",
    "    #the second [1::2] starts from b and skips to d and so on\n",
    "    #zip function concats the two together: so letter1=a,letter2=b zip(letter1,letter2)=ab \n",
    "        file.write(letter1+letter2 +'\\n')\n"
   ]
  },
  {
   "cell_type": "code",
   "execution_count": null,
   "metadata": {
    "collapsed": true
   },
   "outputs": [],
   "source": [
    "#EX44\n",
    "'''write to a file so that three letters per line'''\n",
    "import string\n",
    "letters=string.ascii_lowercase+ ' ' #adding space so that it adds up to 27. otherwise iteration will stop short without printing y,z \n",
    "with open('three_letters.txt','w') as file:\n",
    "    #slice of threes\n",
    "    for l1,l2,l3 in zip(letters[0::3],letters[1::3],letters[2::3]):\n",
    "        file.write(l1+l2+l3+'\\n')\n",
    "    "
   ]
  },
  {
   "cell_type": "code",
   "execution_count": null,
   "metadata": {},
   "outputs": [],
   "source": [
    "print(string.ascii_lowercase[0::3])\n",
    "print (string.ascii_lowercase[1::3])\n",
    "print(string.ascii_lowercase[2::3])"
   ]
  },
  {
   "cell_type": "code",
   "execution_count": null,
   "metadata": {
    "collapsed": true
   },
   "outputs": [],
   "source": [
    "#EX45\n",
    "'''write a file for each letter'''\n",
    "import string\n",
    "for letter in string.ascii_lowercase:\n",
    "    with open('letter_folder/'+letter+'.txt','w') as file:#open a new folder\n",
    "        #name each folder by its letter\n",
    "        file.write(letter+'\\n')\n",
    "        \n",
    "# Another method to create a non existing file\n",
    "import os \n",
    "if not os.path.exists('letters'):\n",
    "    os.makedirs('letters')\n",
    "        "
   ]
  },
  {
   "cell_type": "code",
   "execution_count": null,
   "metadata": {
    "collapsed": true
   },
   "outputs": [],
   "source": [
    "#EX46 Method1 \n",
    "#write a script the extract letters from the previous 26 files to a list\n",
    "letter_list=[]\n",
    "\n",
    "for letter in string.ascii_lowercase:\n",
    "    with open('letter_folder/'+letter+'.txt','r') as file:\n",
    "        each_letter=file.read()\n",
    "    letter_list.append(each_letter.rstrip('\\n'))\n",
    "    \n",
    "    \n",
    "#Method 2: using glob lib\n",
    "import glob\n",
    "letters=[]\n",
    "file_list=glob.glob('letter_folder/*.txt') #to find all the files that match given patters\n",
    "for filename in file_list:\n",
    "    with open(filename,'r') as file:\n",
    "        letters.append(file.read().rstrip('\\n'))\n",
    "print(letters)"
   ]
  },
  {
   "cell_type": "code",
   "execution_count": null,
   "metadata": {},
   "outputs": [],
   "source": [
    "#EX47 \n",
    "'''Iterate over files from previous example. if letter is in string'python' add it to list'''\n",
    "import glob\n",
    "l_in_python=[]\n",
    "file_list=glob.glob('letter_folder/*.txt')\n",
    "for filename in file_list:\n",
    "    with open(filename,'r') as file:\n",
    "        letter=file.read().rstrip('\\n')\n",
    "    if letter in 'python':\n",
    "        l_in_python.append(letter)\n",
    "print(l_in_python)"
   ]
  },
  {
   "cell_type": "code",
   "execution_count": null,
   "metadata": {
    "collapsed": true
   },
   "outputs": [],
   "source": []
  }
 ],
 "metadata": {
  "kernelspec": {
   "display_name": "Python 3",
   "language": "python",
   "name": "python3"
  },
  "language_info": {
   "codemirror_mode": {
    "name": "ipython",
    "version": 3
   },
   "file_extension": ".py",
   "mimetype": "text/x-python",
   "name": "python",
   "nbconvert_exporter": "python",
   "pygments_lexer": "ipython3",
   "version": "3.6.1"
  }
 },
 "nbformat": 4,
 "nbformat_minor": 2
}
